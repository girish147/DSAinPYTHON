{
 "cells": [
  {
   "cell_type": "markdown",
   "metadata": {},
   "source": [
    "1: 451. Sort Characters By Frequency"
   ]
  },
  {
   "cell_type": "code",
   "execution_count": 1,
   "metadata": {},
   "outputs": [],
   "source": [
    "from collections import Counter\n",
    "class Solution:\n",
    "    def frequencySort(self, s: str) -> str:\n",
    "        ans = \"\"\n",
    "        sorte = Counter(s).most_common()\n",
    "        for c, occr in sorte:\n",
    "            ans = ans + c * occr\n",
    "        return ans"
   ]
  },
  {
   "cell_type": "markdown",
   "metadata": {},
   "source": [
    "2: \tMaximum Nesting Depth of Paranthesis"
   ]
  },
  {
   "cell_type": "code",
   "execution_count": 2,
   "metadata": {},
   "outputs": [],
   "source": [
    "class Solution:\n",
    "    def maxDepth(self, s: str) -> int:\n",
    "        countMax = 0\n",
    "        temp = 0\n",
    "        for i in range(len(s)):\n",
    "            if s[i] == \"(\":\n",
    "                temp += 1\n",
    "                countMax = max(countMax, temp)\n",
    "            elif s[i] == \")\":\n",
    "                temp -= 1\n",
    "        return countMax\n",
    "            "
   ]
  },
  {
   "cell_type": "markdown",
   "metadata": {},
   "source": [
    "3: \tRoman Number to Integer and vice versa\n",
    "https://leetcode.com/problems/roman-to-integer/"
   ]
  },
  {
   "cell_type": "code",
   "execution_count": 3,
   "metadata": {},
   "outputs": [],
   "source": [
    "class Solution:\n",
    "    def romanToInt(self, s: str) -> int:\n",
    "        n = len(s) - 2\n",
    "        ans = 0\n",
    "        dicti = {\n",
    "            \"I\" : 1,\n",
    "            \"V\" : 5,\n",
    "            \"X\" : 10,\n",
    "            \"L\" : 50,\n",
    "            \"C\" : 100,\n",
    "            \"D\" : 500,\n",
    "            \"M\" : 1000\n",
    "        }\n",
    "        ax = dicti.get(s[n+1])\n",
    "        ans += ax\n",
    "        for i in range(n,-1,-1):\n",
    "            curr = dicti.get(s[i])\n",
    "            if curr == ax:\n",
    "                ans += ax\n",
    "            elif curr >= ax:\n",
    "                ans += curr\n",
    "                ax = curr\n",
    "            else:\n",
    "                ans -= curr\n",
    "        return ans\n"
   ]
  },
  {
   "cell_type": "markdown",
   "metadata": {
    "vscode": {
     "languageId": "bat"
    }
   },
   "source": [
    "4: Implement Atoi\n",
    "https://leetcode.com/problems/string-to-integer-atoi/"
   ]
  },
  {
   "cell_type": "code",
   "execution_count": 5,
   "metadata": {},
   "outputs": [],
   "source": [
    "class Solution:\n",
    "    def myAtoi(self, s: str) -> int:\n",
    "        ans = \"0\"\n",
    "        s1 = False\n",
    "        s2 = False\n",
    "        sign = 1\n",
    "        for i in range(len(s)):\n",
    "            if not s1 and s[i] == \" \":\n",
    "                continue\n",
    "            elif not s2 and (s[i] == \"-\" or s[i] == \"+\"):\n",
    "                s1 = True\n",
    "                s2 = True\n",
    "                if s[i] == \"-\":\n",
    "                    sign = -1 \n",
    "            elif (s[i] == \"0\" or s[i] == \"1\" or s[i] == \"2\" or s[i] == \"3\" or s[i] == \"4\" or s[i] == \"5\" or s[i] == \"6\" or s[i] == \"7\" or s[i] == \"8\" or s[i] == \"9\"):\n",
    "                s2 = True\n",
    "                s1 = True\n",
    "                ans += s[i]\n",
    "            else:\n",
    "                break\n",
    "        ans = int(ans) * sign\n",
    "        if ans < -1 * 2**31:\n",
    "            return -1 * 2**31\n",
    "        elif ans > (2**31) - 1:\n",
    "            return (2**31) -1\n",
    "        else:\n",
    "            return ans"
   ]
  },
  {
   "cell_type": "markdown",
   "metadata": {},
   "source": [
    "6: Longest Palindromic Substring[Do it without DP]\n",
    "https://leetcode.com/problems/longest-palindromic-substring/"
   ]
  },
  {
   "cell_type": "code",
   "execution_count": 1,
   "metadata": {},
   "outputs": [],
   "source": [
    "class Solution:\n",
    "    def longestPalindrome(self, s: str) -> str:\n",
    "        if len(s) == 0:\n",
    "            return s\n",
    "        ans = \"\"\n",
    "        temp = \"\"\n",
    "        tempr = \"\"\n",
    "        n = len(s)\n",
    "        for i in range(n-1):\n",
    "            for j in range(n-1,i,-1):\n",
    "                temp = s[i:j+1]\n",
    "                tempr = temp[::-1]\n",
    "                if temp == tempr and len(ans) < len(temp):\n",
    "                    ans = temp\n",
    "        if len(ans) == 0:\n",
    "            return s[0]\n",
    "        return ans"
   ]
  },
  {
   "cell_type": "code",
   "execution_count": null,
   "metadata": {},
   "outputs": [],
   "source": []
  }
 ],
 "metadata": {
  "kernelspec": {
   "display_name": "base",
   "language": "python",
   "name": "python3"
  },
  "language_info": {
   "codemirror_mode": {
    "name": "ipython",
    "version": 3
   },
   "file_extension": ".py",
   "mimetype": "text/x-python",
   "name": "python",
   "nbconvert_exporter": "python",
   "pygments_lexer": "ipython3",
   "version": "3.9.13"
  }
 },
 "nbformat": 4,
 "nbformat_minor": 2
}
