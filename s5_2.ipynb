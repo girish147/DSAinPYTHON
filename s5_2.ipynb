{
 "cells": [
  {
   "cell_type": "markdown",
   "metadata": {},
   "source": [
    "1: 451. Sort Characters By Frequency"
   ]
  },
  {
   "cell_type": "code",
   "execution_count": 1,
   "metadata": {},
   "outputs": [],
   "source": [
    "from collections import Counter\n",
    "class Solution:\n",
    "    def frequencySort(self, s: str) -> str:\n",
    "        ans = \"\"\n",
    "        sorte = Counter(s).most_common()\n",
    "        for c, occr in sorte:\n",
    "            ans = ans + c * occr\n",
    "        return ans"
   ]
  },
  {
   "cell_type": "markdown",
   "metadata": {},
   "source": [
    "2: \tMaximum Nesting Depth of Paranthesis"
   ]
  },
  {
   "cell_type": "code",
   "execution_count": 2,
   "metadata": {},
   "outputs": [],
   "source": [
    "class Solution:\n",
    "    def maxDepth(self, s: str) -> int:\n",
    "        countMax = 0\n",
    "        temp = 0\n",
    "        for i in range(len(s)):\n",
    "            if s[i] == \"(\":\n",
    "                temp += 1\n",
    "                countMax = max(countMax, temp)\n",
    "            elif s[i] == \")\":\n",
    "                temp -= 1\n",
    "        return countMax\n",
    "            "
   ]
  },
  {
   "cell_type": "markdown",
   "metadata": {},
   "source": [
    "3: \tRoman Number to Integer and vice versa\n",
    "https://leetcode.com/problems/roman-to-integer/"
   ]
  },
  {
   "cell_type": "code",
   "execution_count": 3,
   "metadata": {},
   "outputs": [],
   "source": [
    "class Solution:\n",
    "    def romanToInt(self, s: str) -> int:\n",
    "        n = len(s) - 2\n",
    "        ans = 0\n",
    "        dicti = {\n",
    "            \"I\" : 1,\n",
    "            \"V\" : 5,\n",
    "            \"X\" : 10,\n",
    "            \"L\" : 50,\n",
    "            \"C\" : 100,\n",
    "            \"D\" : 500,\n",
    "            \"M\" : 1000\n",
    "        }\n",
    "        ax = dicti.get(s[n+1])\n",
    "        ans += ax\n",
    "        for i in range(n,-1,-1):\n",
    "            curr = dicti.get(s[i])\n",
    "            if curr == ax:\n",
    "                ans += ax\n",
    "            elif curr >= ax:\n",
    "                ans += curr\n",
    "                ax = curr\n",
    "            else:\n",
    "                ans -= curr\n",
    "        return ans\n"
   ]
  },
  {
   "cell_type": "code",
   "execution_count": null,
   "metadata": {},
   "outputs": [],
   "source": []
  }
 ],
 "metadata": {
  "kernelspec": {
   "display_name": "base",
   "language": "python",
   "name": "python3"
  },
  "language_info": {
   "codemirror_mode": {
    "name": "ipython",
    "version": 3
   },
   "file_extension": ".py",
   "mimetype": "text/x-python",
   "name": "python",
   "nbconvert_exporter": "python",
   "pygments_lexer": "ipython3",
   "version": "3.9.13"
  }
 },
 "nbformat": 4,
 "nbformat_minor": 2
}
